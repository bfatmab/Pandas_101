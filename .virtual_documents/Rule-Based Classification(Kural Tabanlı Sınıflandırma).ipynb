İŞ PROBLEMİ
 Bir oyun şirketi müşterilerinin bazı özelliklerini kullanarak
seviye tabanlı (level based) yeni müşteri tanımları (persona)
oluşturmak ve bu yeni müşteri tanımlarına göre segmentler
oluşturup bu segmentlere göre yeni gelebilecek müşterilerin
şirkete ortalama ne kadar kazandırabileceğini tahmin etmek
istemektedir. 

Örneğin:
Türkiye’den IOS kullanıcısı olan 25 yaşındaki bir erkek
kullanıcının ortalama ne kadar kazandırabileceği belirlenmek
isteniyor.


  Veri Seti Hikayesi 
  Persona.csv veri seti uluslararası bir oyun şirketinin sattığı ürünlerin fiyatlarını ve bu
ürünleri satın alan kullanıcıların bazı demografik bilgilerini barındırmaktadır. Veri
seti her satış işleminde oluşan kayıtlardan meydana gelmektedir. Bunun anlamı
tablo tekilleştirilmemiştir. Diğer bir ifade ile belirli demografik özelliklere sahip bir
kullanıcı birden fazla alışveriş yapmış olabilir.


PROJE GÖREVLERİ

Soru 1: persona.csv dosyasını okutunuz ve veri seti ile ilgili genel bilgileri gösteriniz. Soru 2: Kaç unique SOURCE vardır? Frekansları nedir?*
 Soru 3: Kaç unique PRICE vardır*§ Soru 4: Hangi PRICE'dan kaçar tane satış gerçekleşmi*?
§ Soru 5: Hangi ülkeden kaçar tane satış om*ş
§ Soru 6: Ülkelere göre satışlardan toplam ne kadar kazamıl*ı?
§ Soru 7: SOURCE türlerine göre satış sayılaeı n*dr?
§ Soru 8: Ülkelere göre PRICE ortalam arıı*neidir?
                              


#1
import pandas as pd 

df =pd.read_csv("persona.csv")
df.head()
df.info()


#2 
df["SOURCE"].nunique()

df["SOURCE"].value_counts()


#3 
df["PRICE"].nunique()


#4 
df["PRICE"].value_counts()


#5 
df["COUNTRY"].value_counts()


#6 

#df.groupby("COUNTRY")["PRICE"].sum()
df.groupby("COUNTRY").agg({"PRICE":"sum"})


# 7 
#satış sayısı, toplam vs. dediğim zaman value_counts() kullanılır. 
#Satış bazında tekil çünkü. 
#Eğer sadece satış bazında olmasaydı filtrlemeler, groupby vs. kullanmamaız gerekecekti.
df["SOURCE"].value_counts()


# 8 
df.groupby("COUNTRY").agg({"PRICE":"mean"}).sort_values(by="PRICE",ascending=False)


#Görev 2: COUNTRY, SOURCE, SEX, AGE kırılımında ortalama kazançlar nedir?
df.groupby(["COUNTRY","SOURCE","AGE"]).agg({"PRICE":"mean"}).head(5)


#Görev3:Çıktıyı PRICE’a göre sıralayınız
# Önceki sorudaki çıktıyı daha iyi görebilmek için sort_values metodunu azalan olacak şekilde PRICE’a göre uygulayınız.
# Çıktıyı agg_df olarak kaydediniz. 
agg_df = df.groupby(["COUNTRY","SOURCE","AGE","SEX"]).agg({"PRICE":"mean"}).sort_values("PRICE",ascending=False).head()
agg_df.head()


# Görev 4 : Index'te yer alan isimleri değişken ismine çeviriniz 
#Üçüncü sorunun çıktısında yer alan prıce dışındaki tüm değişkenler index isimleridir. 
#Bu isimleri değişken isimlerine çeviriniz 

agg_df.shape
agg_df.reset_index(inplace=True)
agg_df.head()

